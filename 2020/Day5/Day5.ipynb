{
 "cells": [
  {
   "cell_type": "raw",
   "metadata": {},
   "source": [
    "--- Day 5: Binary Boarding ---\n",
    "\n",
    "You board your plane only to discover a new problem: you dropped your boarding pass! You aren't sure which seat is yours, and all of the flight attendants are busy with the flood of people that suddenly made it through passport control.\n",
    "\n",
    "You write a quick program to use your phone's camera to scan all of the nearby boarding passes (your puzzle input); perhaps you can find your seat through process of elimination.\n",
    "\n",
    "Instead of zones or groups, this airline uses binary space partitioning to seat people. A seat might be specified like FBFBBFFRLR, where F means \"front\", B means \"back\", L means \"left\", and R means \"right\".\n",
    "\n",
    "The first 7 characters will either be F or B; these specify exactly one of the 128 rows on the plane (numbered 0 through 127). Each letter tells you which half of a region the given seat is in. Start with the whole list of rows; the first letter indicates whether the seat is in the front (0 through 63) or the back (64 through 127). The next letter indicates which half of that region the seat is in, and so on until you're left with exactly one row.\n",
    "\n",
    "For example, consider just the first seven characters of FBFBBFFRLR:\n",
    "\n",
    "Start by considering the whole range, rows 0 through 127.\n",
    "F means to take the lower half, keeping rows 0 through 63.\n",
    "B means to take the upper half, keeping rows 32 through 63.\n",
    "F means to take the lower half, keeping rows 32 through 47.\n",
    "B means to take the upper half, keeping rows 40 through 47.\n",
    "B keeps rows 44 through 47.\n",
    "F keeps rows 44 through 45.\n",
    "The final F keeps the lower of the two, row 44.\n",
    "The last three characters will be either L or R; these specify exactly one of the 8 columns of seats on the plane (numbered 0 through 7). The same process as above proceeds again, this time with only three steps. L means to keep the lower half, while R means to keep the upper half.\n",
    "\n",
    "For example, consider just the last 3 characters of FBFBBFFRLR:\n",
    "\n",
    "Start by considering the whole range, columns 0 through 7.\n",
    "R means to take the upper half, keeping columns 4 through 7.\n",
    "L means to take the lower half, keeping columns 4 through 5.\n",
    "The final R keeps the upper of the two, column 5.\n",
    "So, decoding FBFBBFFRLR reveals that it is the seat at row 44, column 5.\n",
    "\n",
    "Every seat also has a unique seat ID: multiply the row by 8, then add the column. In this example, the seat has ID 44 * 8 + 5 = 357.\n",
    "\n",
    "Here are some other boarding passes:\n",
    "\n",
    "BFFFBBFRRR: row 70, column 7, seat ID 567.\n",
    "FFFBBBFRRR: row 14, column 7, seat ID 119.\n",
    "BBFFBBFRLL: row 102, column 4, seat ID 820.\n",
    "As a sanity check, look through your list of boarding passes. What is the highest seat ID on a boarding pass?\n",
    "\n"
   ]
  },
  {
   "cell_type": "code",
   "execution_count": null,
   "metadata": {},
   "outputs": [],
   "source": [
    "# Read in input data file\n",
    "with open(\"input.txt\",\"r\") as f:\n",
    "    boardingpass_list = [x.strip() for x in f]\n"
   ]
  },
  {
   "cell_type": "code",
   "execution_count": null,
   "metadata": {},
   "outputs": [],
   "source": [
    "# Inspect first several elements of boarding passes\n",
    "print(boardingpass_list[0:2])"
   ]
  },
  {
   "cell_type": "code",
   "execution_count": null,
   "metadata": {},
   "outputs": [],
   "source": [
    "# Function to identify seat ID\n",
    "def convert_seat_id(boardingpass) :\n",
    "    \n",
    "    # Function to calculate row\n",
    "    def calc_row(bdpass) :\n",
    "        row_start = 0\n",
    "        row_end = 127\n",
    "        \n",
    "        for r in bdpass[0:7] :\n",
    "            if r == 'F' :\n",
    "                row_end = row_start + ((row_end-row_start) // 2)\n",
    "\n",
    "            elif r == 'B' :\n",
    "                row_start = row_start + int(((row_end-row_start)+1) / 2)\n",
    "        \n",
    "        assert row_start == row_end\n",
    "        return (row_start)\n",
    "    \n",
    "    # Function to calculate column\n",
    "    def calc_col(bdpass) :\n",
    "        col_start = 0\n",
    "        col_end = 7\n",
    "        \n",
    "        for r in bdpass[-3:] :\n",
    "            if r == 'L' :\n",
    "                col_end = col_start + ((col_end-col_start) // 2)\n",
    "\n",
    "            elif r == 'R' :\n",
    "                col_start = col_start + int((((col_end-col_start)+1) / 2))\n",
    "               \n",
    "        assert col_start == col_end\n",
    "        return (col_start)\n",
    "    \n",
    "    # Use above functions to calculate seat ID\n",
    "    row_id = calc_row(boardingpass)\n",
    "    col_id = calc_col(boardingpass)\n",
    "    \n",
    "    return (row_id * 8) + col_id\n",
    "        \n",
    "       \n",
    "# Test on examples given\n",
    "print(convert_seat_id('FBFBBFFRLR')) # should be 357\n",
    "print(convert_seat_id('BFFFBBFRRR')) # should be 567\n",
    "print(convert_seat_id('FFFBBBFRRR')) # should be 119\n",
    "print(convert_seat_id('BBFFBBFRLL')) # should be 820"
   ]
  },
  {
   "cell_type": "code",
   "execution_count": null,
   "metadata": {},
   "outputs": [],
   "source": [
    "# Calculate highest seat ID in input file provided\n",
    "seat_ids = [convert_seat_id(s) for s in boardingpass_list]\n",
    "max(seat_ids)"
   ]
  },
  {
   "cell_type": "raw",
   "metadata": {},
   "source": [
    "--- Part Two ---\n",
    "\n",
    "Ding! The \"fasten seat belt\" signs have turned on. Time to find your seat.\n",
    "\n",
    "It's a completely full flight, so your seat should be the only missing boarding pass in your list. However, there's a catch: some of the seats at the very front and back of the plane don't exist on this aircraft, so they'll be missing from your list as well.\n",
    "\n",
    "Your seat wasn't at the very front or back, though; the seats with IDs +1 and -1 from yours will be in your list.\n",
    "\n",
    "What is the ID of your seat?"
   ]
  },
  {
   "cell_type": "code",
   "execution_count": null,
   "metadata": {},
   "outputs": [],
   "source": [
    "# Find min and max seat that exists on plane\n",
    "min_id = min(seat_ids)\n",
    "max_id = max(seat_ids)\n",
    "\n",
    "my_ticket = []\n",
    "\n",
    "# See where there is/are missing IDs in the boarding passes provided\n",
    "for i in range(min_id, max_id) :\n",
    "    if i not in seat_ids :\n",
    "        my_ticket\n",
    "\n",
    "print(my_ticket)"
   ]
  }
 ],
 "metadata": {
  "kernelspec": {
   "display_name": "Python 3",
   "language": "python",
   "name": "python3"
  },
  "language_info": {
   "codemirror_mode": {
    "name": "ipython",
    "version": 3
   },
   "file_extension": ".py",
   "mimetype": "text/x-python",
   "name": "python",
   "nbconvert_exporter": "python",
   "pygments_lexer": "ipython3",
   "version": "3.8.3"
  }
 },
 "nbformat": 4,
 "nbformat_minor": 4
}
