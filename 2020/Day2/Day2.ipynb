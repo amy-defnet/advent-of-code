{
 "cells": [
  {
   "cell_type": "markdown",
   "metadata": {},
   "source": [
    "--- Day 2: Password Philosophy ---\n",
    "\n",
    "Your flight departs in a few days from the coastal airport; the easiest way down to the coast from here is via toboggan.\n",
    "\n",
    "The shopkeeper at the North Pole Toboggan Rental Shop is having a bad day. \"Something's wrong with our computers; we can't log in!\" You ask if you can take a look.\n",
    "\n",
    "Their password database seems to be a little corrupted: some of the passwords wouldn't have been allowed by the Official Toboggan Corporate Policy that was in effect when they were chosen.\n",
    "\n",
    "To try to debug the problem, they have created a list (your puzzle input) of passwords (according to the corrupted database) and the corporate policy when that password was set.\n",
    "\n",
    "For example, suppose you have the following list:\n",
    "\n",
    "1-3 a: abcde\n",
    "\n",
    "1-3 b: cdefg\n",
    "\n",
    "2-9 c: ccccccccc\n",
    "\n",
    "Each line gives the password policy and then the password. The password policy indicates the lowest and highest number of times a given letter must appear for the password to be valid. For example, 1-3 a means that the password must contain a at least 1 time and at most 3 times.\n",
    "\n",
    "In the above example, 2 passwords are valid. The middle password, cdefg, is not; it contains no instances of b, but needs at least 1. The first and third passwords are valid: they contain one a or nine c, both within the limits of their respective policies.\n",
    "\n",
    "How many passwords are valid according to their policies?"
   ]
  },
  {
   "cell_type": "code",
   "execution_count": null,
   "metadata": {},
   "outputs": [],
   "source": [
    "# Read in input data file\n",
    "with open('input.txt') as infile:\n",
    "    rule_list = [line.split(\": \") for line in infile.readlines()]"
   ]
  },
  {
   "cell_type": "code",
   "execution_count": null,
   "metadata": {},
   "outputs": [],
   "source": [
    "# Inspect an element of rule_list\n",
    "rule_list[0]"
   ]
  },
  {
   "cell_type": "code",
   "execution_count": null,
   "metadata": {},
   "outputs": [],
   "source": [
    "# Function to identify and count valid passwords\n",
    "def count_valid_password(rules) :\n",
    "    rule_count = 0\n",
    "    \n",
    "    for r in rules :\n",
    "        char = r[0].split(\" \")[1]\n",
    "        range_min = int(r[0].split(\" \")[0].split(\"-\")[0])\n",
    "        range_max = int(r[0].split(\" \")[0].split(\"-\")[1])\n",
    "        password = r[1].strip().replace(\"\\n\", \"\")\n",
    "\n",
    "        # Check character count is within desired range\n",
    "        if range_min <= password.count(char) <= range_max :\n",
    "            rule_count += 1\n",
    "        \n",
    "    return rule_count\n",
    "        \n",
    "    \n",
    "# Test on input file given\n",
    "count_valid_password(rule_list)"
   ]
  },
  {
   "cell_type": "markdown",
   "metadata": {},
   "source": [
    "--- Part Two ---\n",
    "\n",
    "While it appears you validated the passwords correctly, they don't seem to be what the Official Toboggan Corporate Authentication System is expecting.\n",
    "\n",
    "The shopkeeper suddenly realizes that he just accidentally explained the password policy rules from his old job at the sled rental place down the street! The Official Toboggan Corporate Policy actually works a little differently.\n",
    "\n",
    "Each policy actually describes two positions in the password, where 1 means the first character, 2 means the second character, and so on. (Be careful; Toboggan Corporate Policies have no concept of \"index zero\"!) Exactly one of these positions must contain the given letter. Other occurrences of the letter are irrelevant for the purposes of policy enforcement.\n",
    "\n",
    "Given the same example list from above:\n",
    "\n",
    "1-3 a: abcde is valid: position 1 contains a and position 3 does not.\n",
    "\n",
    "1-3 b: cdefg is invalid: neither position 1 nor position 3 contains b.\n",
    "\n",
    "2-9 c: ccccccccc is invalid: both position 2 and position 9 contain c.\n",
    "\n",
    "How many passwords are valid according to the new interpretation of the policies?"
   ]
  },
  {
   "cell_type": "code",
   "execution_count": null,
   "metadata": {},
   "outputs": [],
   "source": [
    "# Function to find correct number triple\n",
    "def count_valid_password_new(rules) :\n",
    "    rule_count = 0\n",
    "    \n",
    "    for r in rules :\n",
    "        char = r[0].split(\" \")[1]\n",
    "        index1 = int(r[0].split(\" \")[0].split(\"-\")[0])\n",
    "        index2 = int(r[0].split(\" \")[0].split(\"-\")[1])\n",
    "        password = r[1].strip().replace(\"\\n\", \"\")\n",
    "        \n",
    "        # Check one and only one of the specified indices has the requested character\n",
    "        # Factor in 0-indexing!\n",
    "        if (password[index1-1] == char) + (password[index2-1] == char) == 1 :\n",
    "            rule_count += 1\n",
    "    \n",
    "    return rule_count\n",
    "                \n",
    "# Test on input file given\n",
    "count_valid_password_new(rule_list)"
   ]
  }
 ],
 "metadata": {
  "kernelspec": {
   "display_name": "Python 3",
   "language": "python",
   "name": "python3"
  },
  "language_info": {
   "codemirror_mode": {
    "name": "ipython",
    "version": 3
   },
   "file_extension": ".py",
   "mimetype": "text/x-python",
   "name": "python",
   "nbconvert_exporter": "python",
   "pygments_lexer": "ipython3",
   "version": "3.8.3"
  }
 },
 "nbformat": 4,
 "nbformat_minor": 4
}
